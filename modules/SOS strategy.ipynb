{
 "cells": [
  {
   "cell_type": "code",
   "execution_count": 18,
   "metadata": {},
   "outputs": [],
   "source": [
    "import numpy as np\n",
    "import matplotlib.pyplot as plt"
   ]
  },
  {
   "cell_type": "markdown",
   "metadata": {},
   "source": [
    "# SOS signal strategy\n",
    "\n",
    "Supposing that you only care about 10-5, what is the optimal way to spend signals to get them?\n",
    "\n",
    "Assumptions:\n",
    "- All stages are equally likely\n",
    "\n",
    "Possible strategies:\n",
    "- Pull until 10, then stop.\n",
    "- Pull until 10, then keep pulling conditional on how many pulls left"
   ]
  },
  {
   "cell_type": "markdown",
   "metadata": {},
   "source": [
    "# Pull until 10, then stop"
   ]
  },
  {
   "cell_type": "code",
   "execution_count": 4,
   "metadata": {},
   "outputs": [],
   "source": [
    "stages = range(3,11)"
   ]
  },
  {
   "cell_type": "code",
   "execution_count": 14,
   "metadata": {},
   "outputs": [
    {
     "data": {
      "text/plain": [
       "array([[3.27963639e-02, 3.34282095e-02, 3.37351911e-02, 3.27695403e-02,\n",
       "        3.30973847e-02, 3.29125997e-02, 3.33298562e-02, 3.29424037e-02,\n",
       "        3.30288354e-02],\n",
       "       [0.00000000e+00, 7.12912600e-03, 1.51225691e-02, 2.53990016e-02,\n",
       "        3.56694732e-02, 4.89799568e-02, 6.56761791e-02, 8.75463825e-02,\n",
       "        1.22136950e-01],\n",
       "       [0.00000000e+00, 0.00000000e+00, 1.13553386e-03, 3.85366217e-03,\n",
       "        9.83533269e-03, 1.85708964e-02, 3.30467178e-02, 5.59898666e-02,\n",
       "        1.01491692e-01],\n",
       "       [0.00000000e+00, 0.00000000e+00, 0.00000000e+00, 1.54981000e-04,\n",
       "        6.55688846e-04, 2.63467700e-03, 7.12912600e-03, 1.55696297e-02,\n",
       "        3.45130765e-02],\n",
       "       [0.00000000e+00, 0.00000000e+00, 0.00000000e+00, 0.00000000e+00,\n",
       "        5.96080769e-05, 5.96080769e-05, 5.51374711e-04, 2.08628269e-03,\n",
       "        6.33335817e-03],\n",
       "       [0.00000000e+00, 0.00000000e+00, 0.00000000e+00, 0.00000000e+00,\n",
       "        0.00000000e+00, 1.78824231e-05, 0.00000000e+00, 1.25176961e-04,\n",
       "        4.64943000e-04],\n",
       "       [0.00000000e+00, 0.00000000e+00, 0.00000000e+00, 0.00000000e+00,\n",
       "        0.00000000e+00, 0.00000000e+00, 0.00000000e+00, 0.00000000e+00,\n",
       "        2.08628269e-05],\n",
       "       [0.00000000e+00, 0.00000000e+00, 0.00000000e+00, 0.00000000e+00,\n",
       "        0.00000000e+00, 0.00000000e+00, 0.00000000e+00, 0.00000000e+00,\n",
       "        0.00000000e+00],\n",
       "       [0.00000000e+00, 0.00000000e+00, 0.00000000e+00, 0.00000000e+00,\n",
       "        0.00000000e+00, 0.00000000e+00, 0.00000000e+00, 0.00000000e+00,\n",
       "        0.00000000e+00]])"
      ]
     },
     "execution_count": 14,
     "metadata": {},
     "output_type": "execute_result"
    }
   ],
   "source": [
    "SAMPLE_SIZE = 100000\n",
    "type(SAMPLE_SIZE)\n",
    "\n",
    "POOL_SIZE = 1000000\n",
    "entropy_pool = np.random.rand(POOL_SIZE)\n",
    "rand_p = 0\n",
    "\n",
    "SOS_SIGNALS = 9\n",
    "\n",
    "pull_history = np.zeros([SOS_SIGNALS,SOS_SIGNALS])\n",
    "for i in range(SAMPLE_SIZE):\n",
    "    PULL_NO = 0\n",
    "    REMAINING = SOS_SIGNALS\n",
    "    j = 0\n",
    "    while PULL_NO < SOS_SIGNALS:\n",
    "        if entropy_pool[rand_p] < 1 / REMAINING:\n",
    "            pull_history[j,PULL_NO] += j + 1\n",
    "            j += 1\n",
    "            REMAINING += 1\n",
    "            \n",
    "        REMAINING -= 1\n",
    "        PULL_NO += 1\n",
    "        rand_p += 1\n",
    "        if rand_p == POOL_SIZE:\n",
    "            entropy_pool = np.random.rand(POOL_SIZE)\n",
    "            rand_p = 0\n",
    "        \n",
    "\n",
    "        \n",
    "    \n",
    "        \n",
    "\n",
    "#     pulls = np.random.choice(stages, replace=False, size=8)\n",
    "#     location = np.where(pulls==10)[0][0]\n",
    "#     if i%(SAMPLE_SIZE//10) == 0:\n",
    "#         print(i, pulls, location, pulls[location+1:] + [10])\n",
    "#     pull_history[location] += 1\n",
    "pull_history / np.sum(pull_history)"
   ]
  },
  {
   "cell_type": "code",
   "execution_count": 15,
   "metadata": {},
   "outputs": [
    {
     "data": {
      "text/plain": [
       "array([[1.10040000e+04, 5.60800000e+03, 3.77300000e+03, 2.74875000e+03,\n",
       "        2.22100000e+03, 1.84050000e+03, 1.59757143e+03, 1.38162500e+03,\n",
       "        1.23133333e+03],\n",
       "       [0.00000000e+00, 7.97333333e+02, 1.26850000e+03, 1.70440000e+03,\n",
       "        1.99466667e+03, 2.34771429e+03, 2.75450000e+03, 3.26377778e+03,\n",
       "        4.09800000e+03],\n",
       "       [0.00000000e+00, 0.00000000e+00, 7.62000000e+01, 2.15500000e+02,\n",
       "        4.71428571e+02, 7.78875000e+02, 1.23200000e+03, 1.87860000e+03,\n",
       "        3.09572727e+03],\n",
       "       [0.00000000e+00, 0.00000000e+00, 0.00000000e+00, 7.42857143e+00,\n",
       "        2.75000000e+01, 9.82222222e+01, 2.39200000e+02, 4.74909091e+02,\n",
       "        9.65000000e+02],\n",
       "       [0.00000000e+00, 0.00000000e+00, 0.00000000e+00, 0.00000000e+00,\n",
       "        2.22222222e+00, 2.00000000e+00, 1.68181818e+01, 5.83333333e+01,\n",
       "        1.63461538e+02],\n",
       "       [0.00000000e+00, 0.00000000e+00, 0.00000000e+00, 0.00000000e+00,\n",
       "        0.00000000e+00, 5.45454545e-01, 0.00000000e+00, 3.23076923e+00,\n",
       "        1.11428571e+01],\n",
       "       [0.00000000e+00, 0.00000000e+00, 0.00000000e+00, 0.00000000e+00,\n",
       "        0.00000000e+00, 0.00000000e+00, 0.00000000e+00, 0.00000000e+00,\n",
       "        4.66666667e-01],\n",
       "       [0.00000000e+00, 0.00000000e+00, 0.00000000e+00, 0.00000000e+00,\n",
       "        0.00000000e+00, 0.00000000e+00, 0.00000000e+00, 0.00000000e+00,\n",
       "        0.00000000e+00],\n",
       "       [0.00000000e+00, 0.00000000e+00, 0.00000000e+00, 0.00000000e+00,\n",
       "        0.00000000e+00, 0.00000000e+00, 0.00000000e+00, 0.00000000e+00,\n",
       "        0.00000000e+00]])"
      ]
     },
     "execution_count": 15,
     "metadata": {},
     "output_type": "execute_result"
    }
   ],
   "source": [
    "exp_vals = np.zeros([SOS_SIGNALS,SOS_SIGNALS])\n",
    "for i in range(SOS_SIGNALS):\n",
    "    for j in range(SOS_SIGNALS):\n",
    "        exp_vals[i,j] = pull_history[i,j] / (i+j+1)\n",
    "exp_vals"
   ]
  },
  {
   "cell_type": "code",
   "execution_count": 16,
   "metadata": {},
   "outputs": [],
   "source": []
  },
  {
   "cell_type": "code",
   "execution_count": 17,
   "metadata": {},
   "outputs": [
    {
     "data": {
      "text/plain": [
       "[<matplotlib.lines.Line2D at 0x7fa9e24d6730>]"
      ]
     },
     "execution_count": 17,
     "metadata": {},
     "output_type": "execute_result"
    },
    {
     "data": {
      "image/png": "[encoded data removed]",
      "text/plain": [
       "<Figure size 432x288 with 1 Axes>"
      ]
     },
     "metadata": {
      "needs_background": "light"
     },
     "output_type": "display_data"
    },
    {
     "data": {
      "image/png": "[encoded data removed]",
      "text/plain": [
       "<Figure size 432x288 with 1 Axes>"
      ]
     },
     "metadata": {
      "needs_background": "light"
     },
     "output_type": "display_data"
    }
   ],
   "source": [
    "plt.imshow(exp_vals)\n",
    "plt.figure()\n",
    "plt.plot(exp_vals[0], \"o\")\n",
    "plt.plot(exp_vals[1], \"o\")\n",
    "plt.plot(exp_vals[2], \"o\")"
   ]
  },
  {
   "cell_type": "code",
   "execution_count": 50,
   "metadata": {},
   "outputs": [
    {
     "data": {
      "text/plain": [
       "array([0.125108, 0.125495, 0.125516, 0.124846, 0.125602, 0.124381,\n",
       "       0.124504, 0.124548])"
      ]
     },
     "execution_count": 50,
     "metadata": {},
     "output_type": "execute_result"
    }
   ],
   "source": [
    "pull_history[0]/pull_history[0].sum()"
   ]
  },
  {
   "cell_type": "markdown",
   "metadata": {},
   "source": [
    "Just to confirm this with pen and paper: Let $P(N)$ denote the probability of finding the correct mission after $N$ pulls. \n",
    "$$\n",
    "P(0) =& 1/8\\\\\n",
    "P(1) =& !P(0) * P(1)|!P(0)\n",
    "=& 7/8 \n",
    "$$"
   ]
  },
  {
   "cell_type": "code",
   "execution_count": 8,
   "metadata": {},
   "outputs": [
    {
     "data": {
      "text/plain": [
       "array([ 5,  4, 10,  3,  9,  6,  8,  7])"
      ]
     },
     "execution_count": 8,
     "metadata": {},
     "output_type": "execute_result"
    }
   ],
   "source": [
    "pulls"
   ]
  },
  {
   "cell_type": "code",
   "execution_count": 13,
   "metadata": {},
   "outputs": [
    {
     "data": {
      "text/plain": [
       "2"
      ]
     },
     "execution_count": 13,
     "metadata": {},
     "output_type": "execute_result"
    }
   ],
   "source": [
    "np.where(pulls==10)[0][0]"
   ]
  },
  {
   "cell_type": "code",
   "execution_count": 6,
   "metadata": {},
   "outputs": [
    {
     "data": {
      "text/plain": [
       "range(3, 11)"
      ]
     },
     "execution_count": 6,
     "metadata": {},
     "output_type": "execute_result"
    }
   ],
   "source": [
    "stages"
   ]
  },
  {
   "cell_type": "code",
   "execution_count": null,
   "metadata": {},
   "outputs": [],
   "source": []
  }
 ],
 "metadata": {
  "kernelspec": {
   "display_name": "Python 3",
   "language": "python",
   "name": "python3"
  },
  "language_info": {
   "codemirror_mode": {
    "name": "ipython",
    "version": 3
   },
   "file_extension": ".py",
   "mimetype": "text/x-python",
   "name": "python",
   "nbconvert_exporter": "python",
   "pygments_lexer": "ipython3",
   "version": "3.8.3"
  }
 },
 "nbformat": 4,
 "nbformat_minor": 4
}
