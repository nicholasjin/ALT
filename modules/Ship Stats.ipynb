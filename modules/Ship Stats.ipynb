{
 "cells": [
  {
   "cell_type": "markdown",
   "metadata": {},
   "source": [
    "# Ship stats\n",
    "The stats have been retrieved from https://docs.google.com/spreadsheets/d/1tRj0kO4-ciJLUTEuZHzmYPXYZ6zdiggchhAD-fKowtc/edit?usp=sharing, and those stats in turn were retrieved from [the wiki](https://azurlane.koumakan.jp/List_of_Ships_by_Stats).\n"
   ]
  },
  {
   "cell_type": "code",
   "execution_count": null,
   "metadata": {},
   "outputs": [],
   "source": []
  }
 ],
 "metadata": {
  "kernelspec": {
   "display_name": "Python 3",
   "language": "python",
   "name": "python3"
  },
  "language_info": {
   "codemirror_mode": {
    "name": "ipython",
    "version": 3
   },
   "file_extension": ".py",
   "mimetype": "text/x-python",
   "name": "python",
   "nbconvert_exporter": "python",
   "pygments_lexer": "ipython3",
   "version": "3.8.3"
  }
 },
 "nbformat": 4,
 "nbformat_minor": 4
}
