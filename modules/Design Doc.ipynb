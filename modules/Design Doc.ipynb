{
 "cells": [
  {
   "cell_type": "markdown",
   "metadata": {},
   "source": [
    "# ALT Simulation Engine Design doc"
   ]
  },
  {
   "cell_type": "markdown",
   "metadata": {},
   "source": [
    "# Simulation Setup\n",
    "- Pick a simulation environment\n",
    "    - ST, armor type, fight duration\n",
    "    - More complicated things possible, like bosses that occasionally overlap, but thats post-MVP\n",
    "    \n",
    "Ideally we allow a Raidbots-like setup:\n",
    "- Ship comp\n",
    "- Ship loadouts\n",
    "\n",
    "We return:\n",
    "- The simulated DPS results\n",
    "    - incl. breakdown by ship, source (main gun, secondary gun, torpedo, each type of aircraft, each barrage)\n",
    "- Stat weights\n",
    "    - Hit, Luck, crit chance, RLD, FP, TRP, AVI\n",
    "- \"Oath DPS\"\n",
    "\n"
   ]
  },
  {
   "cell_type": "markdown",
   "metadata": {},
   "source": [
    "# DPS Computation\n",
    "\n",
    "- initialize combat module (initialize stats, static buffs, Fleet Technology bonuses)\n",
    "    - Handle faction buffs, skill buffs, etc.\n",
    "- initialize priority queue (priority: time) of all future events (mostly airstrikes, torp launches, gun shots, timed barrages)\n",
    "    - Pay attention to skills / items that change this (HPFCR, preloaded barrages, KGV's first shot reduction)\n",
    "- While events are in the queue:\n",
    "    - pop event(s) off queue (i.e. preloaded torpedos). If time > simduration, exit. Otherwise:\n",
    "        - handle procs (on-fire, on-hit (fire / debuff renewal)\n",
    "            - if procs involve timed buffs/debuffs (non-RLD):\n",
    "                - Check if buff exists\n",
    "                - If not:\n",
    "                    - Buff stat\n",
    "                    - Add new event (buff falloff)\n",
    "                - If so:\n",
    "                    - Remove old buff falloff event\n",
    "                    - Add replacement buff falloff\n",
    "            - if proc involved timed RLD buff:\n",
    "                - pop off all related timers. This includes:\n",
    "                    - Future firing triggers\n",
    "                    - The timer for the current rld buff to fade, if present\n",
    "        - Add replacement event "
   ]
  },
  {
   "cell_type": "markdown",
   "metadata": {},
   "source": [
    "# 1 Ship\n",
    "\n",
    "For a fight of\n",
    "- Given duration\n",
    "- Enemy (stats, armor type)\n",
    "\n",
    "Compute paper dps"
   ]
  },
  {
   "cell_type": "code",
   "execution_count": null,
   "metadata": {},
   "outputs": [],
   "source": []
  }
 ],
 "metadata": {
  "kernelspec": {
   "display_name": "Python 3",
   "language": "python",
   "name": "python3"
  },
  "language_info": {
   "codemirror_mode": {
    "name": "ipython",
    "version": 3
   },
   "file_extension": ".py",
   "mimetype": "text/x-python",
   "name": "python",
   "nbconvert_exporter": "python",
   "pygments_lexer": "ipython3",
   "version": "3.8.3"
  }
 },
 "nbformat": 4,
 "nbformat_minor": 4
}
